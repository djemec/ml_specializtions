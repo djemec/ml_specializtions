{
 "cells": [
  {
   "cell_type": "code",
   "execution_count": 16,
   "id": "d8eda36c",
   "metadata": {},
   "outputs": [],
   "source": [
    "# run this cell to import nltk\n",
    "import nltk\n",
    "import numpy as np\n",
    "import pandas as pd\n",
    "from nltk.corpus import twitter_samples \n",
    "#from utils import process_tweet, build_freqs"
   ]
  },
  {
   "cell_type": "code",
   "execution_count": 9,
   "id": "dc181bfb",
   "metadata": {},
   "outputs": [],
   "source": [
    "data_path = '/Users/djemec/data/twitter_samples/'\n",
    "# nltk.download('twitter_samples',download_dir=data_path)\n",
    "# nltk.download('stopwords',download_dir=data_path)"
   ]
  },
  {
   "cell_type": "markdown",
   "id": "6b485df1",
   "metadata": {},
   "source": []
  },
  {
   "cell_type": "markdown",
   "id": "187a98b2",
   "metadata": {},
   "source": []
  },
  {
   "cell_type": "markdown",
   "id": "902b882a",
   "metadata": {},
   "source": []
  },
  {
   "cell_type": "markdown",
   "id": "232bdb5d",
   "metadata": {},
   "source": []
  }
 ],
 "metadata": {
  "kernelspec": {
   "display_name": "Python 3 (ipykernel)",
   "language": "python",
   "name": "python3"
  },
  "language_info": {
   "codemirror_mode": {
    "name": "ipython",
    "version": 3
   },
   "file_extension": ".py",
   "mimetype": "text/x-python",
   "name": "python",
   "nbconvert_exporter": "python",
   "pygments_lexer": "ipython3",
   "version": "3.10.4"
  }
 },
 "nbformat": 4,
 "nbformat_minor": 5
}
